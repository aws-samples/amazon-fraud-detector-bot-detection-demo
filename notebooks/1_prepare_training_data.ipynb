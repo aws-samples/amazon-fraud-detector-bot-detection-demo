{
 "cells": [
  {
   "cell_type": "markdown",
   "metadata": {},
   "source": [
    "# Preparing the training data"
   ]
  },
  {
   "cell_type": "markdown",
   "metadata": {},
   "source": [
    "The idea here is to use the [official AFD training data](https://docs.aws.amazon.com/frauddetector/latest/ug/samples/training_data.zip) and amend it in two dimensions:\n",
    "1. Add a new feature *registration time* that indicates how long the user took to filling and submit the registration form. The basic idea is that bots are much more likely to take much less time to register as they aim to create multiple fake accounts in a short amount of time\n",
    "1. Manipulate the email addresses so that fraudulent sign-ups are much more likely to use a randomised string as user name"
   ]
  },
  {
   "cell_type": "markdown",
   "metadata": {},
   "source": [
    "## Download of data and import of required packages"
   ]
  },
  {
   "cell_type": "code",
   "execution_count": null,
   "metadata": {},
   "outputs": [],
   "source": [
    "!curl https://docs.aws.amazon.com/frauddetector/latest/ug/samples/training_data.zip --output ./data/training_data.zip --create-dirs\n",
    "!unzip -o ./data/training_data.zip -d ./data/"
   ]
  },
  {
   "cell_type": "code",
   "execution_count": null,
   "metadata": {},
   "outputs": [],
   "source": [
    "!pip install zxcvbn"
   ]
  },
  {
   "cell_type": "code",
   "execution_count": null,
   "metadata": {},
   "outputs": [],
   "source": [
    "import pandas as pd\n",
    "import numpy as np\n",
    "from scipy.stats import skewnorm\n",
    "import string\n",
    "import secrets\n",
    "from zxcvbn import zxcvbn"
   ]
  },
  {
   "cell_type": "markdown",
   "metadata": {},
   "source": [
    "This function creates a random string between 6 and 12 characters long"
   ]
  },
  {
   "cell_type": "code",
   "execution_count": null,
   "metadata": {},
   "outputs": [],
   "source": [
    "def create_random_uname():\n",
    "    len = np.random.randint(6, 12)\n",
    "    uname = ''.join(secrets.choice(string.ascii_lowercase) for _ in range(len))\n",
    "    return uname"
   ]
  },
  {
   "cell_type": "markdown",
   "metadata": {},
   "source": [
    "## Manipulating the training data"
   ]
  },
  {
   "cell_type": "code",
   "execution_count": null,
   "metadata": {},
   "outputs": [],
   "source": [
    "df = pd.read_csv('data/registration_data_20K_minimum.csv')"
   ]
  },
  {
   "cell_type": "markdown",
   "metadata": {},
   "source": [
    "This cell will distribute new labels to the data set -- 90% of the observations will be labelled *legitimate* and 10% will be labelled *fraudulent*."
   ]
  },
  {
   "cell_type": "code",
   "execution_count": null,
   "metadata": {},
   "outputs": [],
   "source": [
    "df['random1'] = np.random.rand(df.shape[0])\n",
    "df['random2'] = np.random.rand(df.shape[0])\n",
    "df['new_label'] = df['random1'].apply(lambda x: 'legit' if x <= .9 else 'fraud')\n",
    "df['registration_time'] = 0"
   ]
  },
  {
   "cell_type": "markdown",
   "metadata": {},
   "source": [
    "This cell will populate the new features (registration_time & user name) for the legitimate observations. The registration time will be distributed in a skew normal distribution with a long tail to account for users that take longer to complete the registration form. The user name for legitimate sign-ups will stay the same as in the original data set 95% of the time. In 5% of the cases the user name will be a random string."
   ]
  },
  {
   "cell_type": "code",
   "execution_count": null,
   "metadata": {},
   "outputs": [],
   "source": [
    "pd.options.mode.chained_assignment = None \n",
    "df_legit = df[df['new_label'] == 'legit']\n",
    "df_legit['registration_time'] = skewnorm.rvs(10, loc=7000, scale=15000, size=df_legit.shape[0])\n",
    "df_legit['new_email'] = df_legit['email_address'].str[5:]\n",
    "df_legit['email_uname'] = df_legit['new_email'].apply(lambda x: x.split('@')[0])\n",
    "df_legit['email_domain'] = df_legit['new_email'].apply(lambda x: x.split('@')[1])\n",
    "df_legit['new_uname'] = df_legit.apply(lambda x: x['email_uname'] if x['random2'] <= .95 else create_random_uname(), axis=1)"
   ]
  },
  {
   "cell_type": "markdown",
   "metadata": {},
   "source": [
    "For fraudulent observations the registration time will be much shorter (skew noraml distribution with 2000 ms as center) and in 95% of the cases the user name will be a random string."
   ]
  },
  {
   "cell_type": "code",
   "execution_count": null,
   "metadata": {},
   "outputs": [],
   "source": [
    "df_fraud = df[df['new_label'] == 'fraud']\n",
    "df_fraud['registration_time'] = skewnorm.rvs(4, loc=2000, scale=2000, size=df_fraud.shape[0])\n",
    "df_fraud['new_email'] = df_fraud['email_address'].str[5:]\n",
    "df_fraud['email_uname'] = df_fraud['new_email'].apply(lambda x: x.split('@')[0])\n",
    "df_fraud['email_domain'] = df_fraud['new_email'].apply(lambda x: x.split('@')[1])\n",
    "df_fraud['new_uname'] = df_fraud.apply(lambda x: x['email_uname'] if x['random2'] >= .95 else create_random_uname(), axis=1)"
   ]
  },
  {
   "cell_type": "code",
   "execution_count": null,
   "metadata": {},
   "outputs": [],
   "source": [
    "df = df_legit.append(df_fraud)\n",
    "df = df.sort_index()"
   ]
  },
  {
   "cell_type": "markdown",
   "metadata": {},
   "source": [
    "In this demo the email domain will be the same for all observations so that the model will be able to pick up on the randomness of the user name as a useful signal. But of course it might be worthwhile to amend the email domain as well to add another dimension to the model."
   ]
  },
  {
   "cell_type": "code",
   "execution_count": null,
   "metadata": {},
   "outputs": [],
   "source": [
    "df['new_email'] = df['new_uname'] + '@example.com'"
   ]
  },
  {
   "cell_type": "markdown",
   "metadata": {},
   "source": [
    "Capping the registration time so that there will be no negative values "
   ]
  },
  {
   "cell_type": "code",
   "execution_count": null,
   "metadata": {},
   "outputs": [],
   "source": [
    "df['registration_time'] = df['registration_time'].apply(lambda x: 100 if x < 100 else x)\n",
    "df['registration_time'] = df['registration_time'].apply(int)\n",
    "df['EVENT_LABEL'] = df['new_label']"
   ]
  },
  {
   "cell_type": "markdown",
   "metadata": {},
   "source": [
    "Calculates the randomness of the user names, which will be used later to visualise the data along this dimension"
   ]
  },
  {
   "cell_type": "code",
   "execution_count": null,
   "metadata": {},
   "outputs": [],
   "source": [
    "df['randomness_uname'] = df['new_uname'].apply(lambda x: zxcvbn(x)['guesses_log10'] + (np.random.rand() - .5))"
   ]
  },
  {
   "cell_type": "markdown",
   "metadata": {},
   "source": [
    "Writing the training data into a csv file"
   ]
  },
  {
   "cell_type": "code",
   "execution_count": null,
   "metadata": {},
   "outputs": [],
   "source": [
    "df_out = df[['ip_address', 'new_email', 'registration_time', 'EVENT_TIMESTAMP', 'new_label']]\n",
    "df_out.columns = ['ip_address', 'email_address', 'registration_time', 'EVENT_TIMESTAMP', 'EVENT_LABEL']\n",
    "df_out.to_csv('data/afd_training_data.csv', index=False)"
   ]
  },
  {
   "cell_type": "code",
   "execution_count": null,
   "metadata": {},
   "outputs": [],
   "source": [
    "df_out.head()"
   ]
  },
  {
   "cell_type": "code",
   "execution_count": null,
   "metadata": {},
   "outputs": [],
   "source": [
    "import matplotlib.pyplot as plt\n",
    "import seaborn as sns"
   ]
  },
  {
   "cell_type": "markdown",
   "metadata": {},
   "source": [
    "## Plotting the training data"
   ]
  },
  {
   "cell_type": "markdown",
   "metadata": {},
   "source": [
    "First, the data will be plotted along the registration time feature to visualise the distribution for legitimate vs fraudulent sign-ups"
   ]
  },
  {
   "cell_type": "code",
   "execution_count": null,
   "metadata": {},
   "outputs": [],
   "source": [
    "sns.distplot(df[df['new_label'] == 'legit']['registration_time'])\n",
    "sns.distplot(df[df['new_label'] == 'fraud']['registration_time'])\n",
    "plt.legend(labels=['legit', 'bot'])"
   ]
  },
  {
   "cell_type": "markdown",
   "metadata": {},
   "source": [
    "Then, the same is done for the randomness of the user names:"
   ]
  },
  {
   "cell_type": "code",
   "execution_count": null,
   "metadata": {},
   "outputs": [],
   "source": [
    "sns.distplot(df[df['new_label'] == 'legit']['randomness_uname'])\n",
    "sns.distplot(df[df['new_label'] == 'fraud']['randomness_uname'])\n",
    "plt.legend(labels=['legit', 'bot'])"
   ]
  },
  {
   "cell_type": "code",
   "execution_count": null,
   "metadata": {},
   "outputs": [],
   "source": []
  }
 ],
 "metadata": {
  "kernelspec": {
   "display_name": "conda_python3",
   "language": "python",
   "name": "conda_python3"
  },
  "language_info": {
   "codemirror_mode": {
    "name": "ipython",
    "version": 3
   },
   "file_extension": ".py",
   "mimetype": "text/x-python",
   "name": "python",
   "nbconvert_exporter": "python",
   "pygments_lexer": "ipython3",
   "version": "3.6.10"
  }
 },
 "nbformat": 4,
 "nbformat_minor": 4
}
