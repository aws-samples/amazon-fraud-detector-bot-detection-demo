{
 "cells": [
  {
   "cell_type": "markdown",
   "metadata": {},
   "source": [
    "## Import libraries"
   ]
  },
  {
   "cell_type": "code",
   "execution_count": null,
   "metadata": {},
   "outputs": [],
   "source": [
    "import boto3\n",
    "from sagemaker import get_execution_role\n",
    "from sagemaker.s3 import S3Uploader\n",
    "\n",
    "sess = boto3.Session()\n",
    "account_id = sess.client('sts', region_name=sess.region_name).get_caller_identity()[\"Account\"]\n",
    "bucket = f'afd-{sess.region_name}-{account_id}'\n",
    "role = get_execution_role()"
   ]
  },
  {
   "cell_type": "markdown",
   "metadata": {},
   "source": [
    "## Create S3 bucket"
   ]
  },
  {
   "cell_type": "code",
   "execution_count": null,
   "metadata": {},
   "outputs": [],
   "source": [
    "try:\n",
    "    if sess.region_name == \"us-east-1\":\n",
    "        sess.client('s3').create_bucket(Bucket=bucket)\n",
    "    else:\n",
    "        sess.client('s3').create_bucket(Bucket=bucket, \n",
    "                                        CreateBucketConfiguration={'LocationConstraint': sess.region_name})\n",
    "except Exception as e:\n",
    "    print(\"Looks like you already have a bucket of this name. That's good. Uploading the data files...\")"
   ]
  },
  {
   "cell_type": "markdown",
   "metadata": {},
   "source": [
    "## Upload the training data"
   ]
  },
  {
   "cell_type": "code",
   "execution_count": null,
   "metadata": {},
   "outputs": [],
   "source": [
    "s3url = S3Uploader.upload('./data/afd_training_data.csv', f's3://{bucket}/training')\n",
    "print(s3url)"
   ]
  },
  {
   "cell_type": "markdown",
   "metadata": {},
   "source": [
    "## Create Fraud Detetcor instance"
   ]
  },
  {
   "cell_type": "code",
   "execution_count": null,
   "metadata": {},
   "outputs": [],
   "source": [
    "fraudDetector = boto3.client('frauddetector')"
   ]
  },
  {
   "cell_type": "markdown",
   "metadata": {},
   "source": [
    "## Create model variables"
   ]
  },
  {
   "cell_type": "code",
   "execution_count": null,
   "metadata": {},
   "outputs": [],
   "source": [
    "try:\n",
    "    fraudDetector.create_variable(\n",
    "    name = 'registration_time',\n",
    "    variableType = 'NUMERIC',\n",
    "    dataSource = 'EVENT',\n",
    "    dataType = 'FLOAT',\n",
    "    defaultValue = '0.0'\n",
    "    )\n",
    "except Exception as e:\n",
    "    print(\"Looks like you already have this variable. That's good\")\n",
    "\n",
    "try:\n",
    "    fraudDetector.create_variable(\n",
    "    name = 'email_address',\n",
    "    variableType = 'EMAIL_ADDRESS',\n",
    "    dataSource = 'EVENT',\n",
    "    dataType = 'STRING',\n",
    "    defaultValue = '<unknown>'\n",
    "    )\n",
    "except Exception as e:\n",
    "    print(\"Looks like you already have this variable. That's good\")\n",
    "    \n",
    "try:\n",
    "    fraudDetector.create_variable(\n",
    "    name = 'ip_address',\n",
    "    variableType = 'IP_ADDRESS',\n",
    "    dataSource = 'EVENT',\n",
    "    dataType = 'STRING',\n",
    "    defaultValue = '<unknown>'\n",
    "    )\n",
    "except Exception as e:\n",
    "    print(\"Looks like you already have this variable. That's good\")"
   ]
  },
  {
   "cell_type": "markdown",
   "metadata": {},
   "source": [
    "## Create model outcomes"
   ]
  },
  {
   "cell_type": "code",
   "execution_count": null,
   "metadata": {},
   "outputs": [],
   "source": [
    "try:\n",
    "    fraudDetector.put_outcome(\n",
    "    name = 'review',\n",
    "    description = 'this outcome sidelines event for review'\n",
    "    )\n",
    "except Exception as e:\n",
    "    print(\"Looks like you already have this outcome. That's good\")\n",
    "\n",
    "try:\n",
    "    fraudDetector.put_outcome(\n",
    "    name = 'approve',\n",
    "    description = 'this outcome approves the event'\n",
    "    )\n",
    "except Exception as e:\n",
    "    print(\"Looks like you already have this outcome. That's good\")"
   ]
  },
  {
   "cell_type": "markdown",
   "metadata": {},
   "source": [
    "## Create customer entitites"
   ]
  },
  {
   "cell_type": "code",
   "execution_count": null,
   "metadata": {},
   "outputs": [],
   "source": [
    "try:\n",
    "    fraudDetector.put_entity_type(\n",
    "    name = 'sample_customer',\n",
    "    description = 'sample customer entity type'\n",
    "    )\n",
    "except Exception as e:\n",
    "    print(\"Looks like you already have this entity. That's good\")"
   ]
  },
  {
   "cell_type": "markdown",
   "metadata": {},
   "source": [
    "## Create labels"
   ]
  },
  {
   "cell_type": "code",
   "execution_count": null,
   "metadata": {},
   "outputs": [],
   "source": [
    "try:\n",
    "    fraudDetector.put_label(\n",
    "    name = 'fraud',\n",
    "    description = 'label for fraud events'\n",
    "    )\n",
    "except Exception as e:\n",
    "    print(\"Looks like you already have this label. That's good\")\n",
    "\n",
    "try:\n",
    "    fraudDetector.put_label(\n",
    "    name = 'legit',\n",
    "    description = 'label for legitimate events'\n",
    "    )\n",
    "except Exception as e:\n",
    "    print(\"Looks like you already have this label. That's good\")"
   ]
  },
  {
   "cell_type": "markdown",
   "metadata": {},
   "source": [
    "## Create event type"
   ]
  },
  {
   "cell_type": "code",
   "execution_count": null,
   "metadata": {},
   "outputs": [],
   "source": [
    "try:\n",
    "    fraudDetector.put_event_type (\n",
    "    name = 'sample_registration',\n",
    "    eventVariables = ['ip_address', 'email_address', 'registration_time'],\n",
    "    labels = ['legit', 'fraud'],\n",
    "    entityTypes = ['sample_customer'])\n",
    "except Exception as e:\n",
    "    print(\"Looks like you already have this event. That's good\")"
   ]
  },
  {
   "cell_type": "markdown",
   "metadata": {},
   "source": [
    "## Create model"
   ]
  },
  {
   "cell_type": "code",
   "execution_count": null,
   "metadata": {},
   "outputs": [],
   "source": [
    "try:\n",
    "    fraudDetector.create_model (\n",
    "    modelId = 'sample_fraud_detection_model',\n",
    "    eventTypeName = 'sample_registration',\n",
    "    modelType = 'ONLINE_FRAUD_INSIGHTS')\n",
    "except Exception as e:\n",
    "    print(\"Looks like you already have this model. That's good\")"
   ]
  },
  {
   "cell_type": "markdown",
   "metadata": {},
   "source": [
    "## Create model version - This will kick off the model training"
   ]
  },
  {
   "cell_type": "code",
   "execution_count": null,
   "metadata": {},
   "outputs": [],
   "source": [
    "fraudDetector.create_model_version (\n",
    "modelId = 'sample_fraud_detection_model',\n",
    "modelType = 'ONLINE_FRAUD_INSIGHTS',\n",
    "trainingDataSource = 'EXTERNAL_EVENTS',\n",
    "trainingDataSchema = {\n",
    "    'modelVariables' : ['ip_address', 'email_address', 'registration_time'],\n",
    "    'labelSchema' : {\n",
    "        'labelMapper' : {\n",
    "            'FRAUD' : ['fraud'],\n",
    "            'LEGIT' : ['legit']\n",
    "        }\n",
    "    }\n",
    "}, \n",
    "externalEventsDetail = {\n",
    "    'dataLocation' : s3url,\n",
    "    'dataAccessRoleArn' : role\n",
    "}\n",
    ")"
   ]
  },
  {
   "cell_type": "markdown",
   "metadata": {},
   "source": [
    "## Check training status"
   ]
  },
  {
   "cell_type": "code",
   "execution_count": null,
   "metadata": {},
   "outputs": [],
   "source": [
    "import time\n",
    "while True:\n",
    "    r = fraudDetector.get_model_version(\n",
    "        modelId='sample_fraud_detection_model',\n",
    "        modelType='ONLINE_FRAUD_INSIGHTS',\n",
    "        modelVersionNumber='1.0')\n",
    "    \n",
    "    print(r['status'])\n",
    "    \n",
    "    if r['status'] != 'TRAINING_IN_PROGRESS':\n",
    "        break\n",
    "    \n",
    "    time.sleep(300)"
   ]
  },
  {
   "cell_type": "markdown",
   "metadata": {},
   "source": [
    "## Activate the new model version"
   ]
  },
  {
   "cell_type": "code",
   "execution_count": null,
   "metadata": {},
   "outputs": [],
   "source": [
    "fraudDetector.update_model_version_status (\n",
    "modelId = 'sample_fraud_detection_model',\n",
    "modelType = 'ONLINE_FRAUD_INSIGHTS',\n",
    "modelVersionNumber = '1.00',\n",
    "status = 'ACTIVE'\n",
    ")"
   ]
  },
  {
   "cell_type": "markdown",
   "metadata": {},
   "source": [
    "## Create a detector"
   ]
  },
  {
   "cell_type": "code",
   "execution_count": null,
   "metadata": {},
   "outputs": [],
   "source": [
    "fraudDetector.put_detector (\n",
    "detectorId = 'sample_detector',\n",
    "eventTypeName = 'sample_registration'\n",
    ")"
   ]
  },
  {
   "cell_type": "markdown",
   "metadata": {},
   "source": [
    "## Create rules based on model scores"
   ]
  },
  {
   "cell_type": "code",
   "execution_count": null,
   "metadata": {},
   "outputs": [],
   "source": [
    "try:\n",
    "    fraudDetector.create_rule(\n",
    "    ruleId = 'high_fraud_risk',\n",
    "    detectorId = 'sample_detector',\n",
    "    expression = '$sample_fraud_detection_model_insightscore > 900',\n",
    "    language = 'DETECTORPL',\n",
    "    outcomes = ['review']\n",
    "    )\n",
    "except Exception as e:\n",
    "    print(\"Looks like you already have this rule. That's good\")\n",
    "\n",
    "try:\n",
    "    fraudDetector.create_rule(\n",
    "    ruleId = 'low_fraud_risk',\n",
    "    detectorId = 'sample_detector',\n",
    "    expression = '$sample_fraud_detection_model_insightscore <= 900',\n",
    "    language = 'DETECTORPL',\n",
    "    outcomes = ['approve']\n",
    "    )\n",
    "except Exception as e:\n",
    "    print(\"Looks like you already have this rule. That's good\")"
   ]
  },
  {
   "cell_type": "markdown",
   "metadata": {},
   "source": [
    "## Create a detector version"
   ]
  },
  {
   "cell_type": "code",
   "execution_count": null,
   "metadata": {},
   "outputs": [],
   "source": [
    "fraudDetector.create_detector_version(\n",
    "detectorId = 'sample_detector',\n",
    "rules = [{\n",
    "    'detectorId' : 'sample_detector',\n",
    "    'ruleId' : 'high_fraud_risk',\n",
    "    'ruleVersion' : '1'\n",
    "},\n",
    "{\n",
    "    'detectorId' : 'sample_detector',\n",
    "    'ruleId' : 'low_fraud_risk',\n",
    "    'ruleVersion' : '1'\n",
    "}\n",
    "],\n",
    "modelVersions = [{\n",
    "    'modelId' : 'sample_fraud_detection_model',\n",
    "    'modelType': 'ONLINE_FRAUD_INSIGHTS',\n",
    "    'modelVersionNumber' : '1.00'\n",
    "}],\n",
    "ruleExecutionMode = 'FIRST_MATCHED'\n",
    ")"
   ]
  },
  {
   "cell_type": "markdown",
   "metadata": {},
   "source": [
    "## Activate the detector"
   ]
  },
  {
   "cell_type": "code",
   "execution_count": null,
   "metadata": {},
   "outputs": [],
   "source": [
    "fraudDetector.update_detector_version_status(\n",
    "detectorId = 'sample_detector',\n",
    "detectorVersionId = '1',\n",
    "status = 'ACTIVE'\n",
    ")"
   ]
  }
 ],
 "metadata": {
  "kernelspec": {
   "display_name": "conda_python3",
   "language": "python",
   "name": "conda_python3"
  },
  "language_info": {
   "codemirror_mode": {
    "name": "ipython",
    "version": 3
   },
   "file_extension": ".py",
   "mimetype": "text/x-python",
   "name": "python",
   "nbconvert_exporter": "python",
   "pygments_lexer": "ipython3",
   "version": "3.6.10"
  }
 },
 "nbformat": 4,
 "nbformat_minor": 4
}
